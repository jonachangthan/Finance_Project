{
  "cells": [
    {
      "cell_type": "code",
      "execution_count": 1,
      "metadata": {
        "colab": {
          "base_uri": "https://localhost:8080/"
        },
        "id": "ILO6nB6P3ldl",
        "outputId": "e9d34175-234b-4128-cf8c-c9ea8603613d"
      },
      "outputs": [
        {
          "name": "stdout",
          "output_type": "stream",
          "text": [
            "[<td align=\"center\">2069</td>, <td nowrap=\"\" style=\"text-align:left !important;\">運錩</td>, <td align=\"right\">         44.94</td>, <td align=\"right\">        495.42</td>, <td align=\"right\">        148.58</td>, <td align=\"right\">         52.03</td>, <td align=\"right\">          5.10</td>, <td align=\"right\">         17.10</td>, <td align=\"right\">         21.34</td>, <td align=\"right\">          5.25</td>, <td align=\"right\">         69.52</td>, <td align=\"right\">          7.97</td>, <td align=\"right\">          1.20</td>, <td align=\"right\">          3.90</td>, <td align=\"right\">          5.98</td>, <td align=\"right\">          8.70</td>, <td align=\"right\">         14.32</td>, <td align=\"right\">          2.62</td>, <td align=\"right\">          1.25</td>, <td align=\"right\">          9.61</td>, <td align=\"right\">        -24.09</td>, <td align=\"right\">          3.06</td>]\n"
          ]
        }
      ],
      "source": [
        "import requests\n",
        "from bs4 import BeautifulSoup\n",
        "import pandas as pd\n",
        "\n",
        "url='https://mops.twse.com.tw/mops/web/t51sb02'\n",
        "\n",
        "form_data = {\n",
        "    'encodeURIComponent':'1',\n",
        "    'step':'1',\n",
        "    'firstin':'1',\n",
        "    'off':'1',\n",
        "    'TYPEK':'sii',\n",
        "    'year':'103',\n",
        "}\n",
        "r = requests.post(url, data=form_data)\n",
        "soup = BeautifulSoup(r.text, 'html.parser')\n",
        "first= soup.find_all('table',class_='hasBorder')\n",
        "even=first[0].find_all('tr',class_='even')\n",
        "odd=first[0].find_all('tr',class_='odd')\n",
        "#table class='hasBorder'\n",
        "#roa index 13 roe index 14\n",
        "print(even[0].find_all('td'))"
      ]
    },
    {
      "cell_type": "code",
      "execution_count": 2,
      "metadata": {
        "colab": {
          "base_uri": "https://localhost:8080/"
        },
        "id": "OIhuX0J1BRJ3",
        "outputId": "050b123c-cb01-446e-af2c-2440a1988fd5"
      },
      "outputs": [
        {
          "name": "stdout",
          "output_type": "stream",
          "text": [
            "公司代號:2069--公司名稱:運錩--ROE:          3.90--ROA:          5.98\n"
          ]
        }
      ],
      "source": [
        "now=even[0].find_all('td')\n",
        "\n",
        "#0,1,13,14\n",
        "for stock in even:\n",
        "  print('公司代號:'+stock.find_all('td')[0].text+'--'+'公司名稱:'+stock.find_all('td')[1].text+'--'+'ROE:'+stock.find_all('td')[13].text+'--'+'ROA:'+stock.find_all('td')[14].text)\n",
        "  #print(stock.find_all('td')[0].text)\n"
      ]
    },
    {
      "cell_type": "code",
      "execution_count": null,
      "metadata": {
        "id": "sQS72ZmNlsWg"
      },
      "outputs": [],
      "source": [
        "#https://mops.twse.com.tw/mops/web/t51sb02_q1\n",
        "#now>=year>=101\n",
        "form_data_new = {\n",
        "    'encodeURIComponent':'1',\n",
        "    'run':'Y',\n",
        "    'step':'1',\n",
        "    'TYPEK':'sii',\n",
        "    'year':'101',\n",
        "    'isnew':'',\n",
        "    'firstin':'1',\n",
        "    'off':'1',\n",
        "    'ifrs':'Y',\n",
        "}\n",
        "url_new='https://mops.twse.com.tw/mops/web/ajax_t51sb02'\n",
        "r2 = requests.post(url_new, data=form_data_new)\n",
        "soup = BeautifulSoup(r2.text, 'html.parser')\n",
        "print(soup)\n"
      ]
    },
    {
      "cell_type": "code",
      "execution_count": 14,
      "metadata": {
        "colab": {
          "base_uri": "https://localhost:8080/"
        },
        "id": "pdgoDIHepBMZ",
        "outputId": "9a752745-5fda-4bc8-8b5e-e402d7a0f2e8"
      },
      "outputs": [
        {
          "name": "stdout",
          "output_type": "stream",
          "text": [
            "公司代號:1525--公司名稱:江申--ROE:          9.83--ROA:         12.46\n",
            "公司代號:2228--公司名稱:劍麟--ROE:         11.51--ROA:         16.77\n",
            "公司代號:2636--公司名稱:台驊投控--ROE:          3.92--ROA:          5.55\n",
            "公司代號:3592--公司名稱:瑞鼎--ROE:         12.88--ROA:         22.76\n",
            "公司代號:4551--公司名稱:智伸科--ROE:          3.37--ROA:          8.22\n",
            "公司代號:5243--公司名稱:乙盛-KY--ROE:          3.47--ROA:          5.23\n",
            "公司代號:8467--公司名稱:波力-KY--ROE:          9.52--ROA:         19.76\n"
          ]
        }
      ],
      "source": [
        "first= soup.find_all('table',class_='hasBorder')\n",
        "even=first[0].find_all('tr',class_='even')\n",
        "odd=first[0].find_all('tr',class_='odd')\n",
        "now=even[0].find_all('td')\n",
        "\n",
        "#0,1,13,14\n",
        "for stock in even:\n",
        "  print('公司代號:'+stock.find_all('td')[0].text+'--'+'公司名稱:'+stock.find_all('td')[1].text+'--'+'ROE:'+stock.find_all('td')[13].text+'--'+'ROA:'+stock.find_all('td')[14].text)\n",
        "  #print(stock.find_all('td')[0].text)"
      ]
    }
  ],
  "metadata": {
    "colab": {
      "provenance": []
    },
    "kernelspec": {
      "display_name": "Python 3",
      "name": "python3"
    },
    "language_info": {
      "codemirror_mode": {
        "name": "ipython",
        "version": 3
      },
      "file_extension": ".py",
      "mimetype": "text/x-python",
      "name": "python",
      "nbconvert_exporter": "python",
      "pygments_lexer": "ipython3",
      "version": "3.9.13"
    }
  },
  "nbformat": 4,
  "nbformat_minor": 0
}
